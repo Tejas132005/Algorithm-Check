{
  "nbformat": 4,
  "nbformat_minor": 0,
  "metadata": {
    "colab": {
      "provenance": [],
      "authorship_tag": "ABX9TyO5hyWUQiecyFeLjKos25s4",
      "include_colab_link": true
    },
    "kernelspec": {
      "name": "python3",
      "display_name": "Python 3"
    },
    "language_info": {
      "name": "python"
    }
  },
  "cells": [
    {
      "cell_type": "markdown",
      "metadata": {
        "id": "view-in-github",
        "colab_type": "text"
      },
      "source": [
        "<a href=\"https://colab.research.google.com/github/Tejas132005/Algorithm-Check/blob/main/check_algorithms.ipynb\" target=\"_parent\"><img src=\"https://colab.research.google.com/assets/colab-badge.svg\" alt=\"Open In Colab\"/></a>"
      ]
    },
    {
      "cell_type": "code",
      "execution_count": null,
      "metadata": {
        "colab": {
          "base_uri": "https://localhost:8080/"
        },
        "id": "2AxGHa1rKn31",
        "outputId": "83910857-77d2-4d1b-a92b-663c67be2a7b"
      },
      "outputs": [
        {
          "output_type": "stream",
          "name": "stdout",
          "text": [
            "[0, inf, inf, inf, inf]\n"
          ]
        }
      ],
      "source": [
        "# Dijkstra Algorithm Python\n",
        "\n",
        "from numpy import Inf\n",
        "\n",
        "def dijkstra(graph, start):\n",
        "  l = len(graph)\n",
        "  dist = [Inf for _ in range(l)]\n",
        "\n",
        "  dist[start] = 0\n",
        "  vstd = [False for _ in range(l)]\n",
        "\n",
        "  for _ in range(l):\n",
        "    u = -1\n",
        "    for x in range(l):\n",
        "      if not vstd[x] and (u==-1 or dist[x]<dist[u]):\n",
        "        u= x\n",
        "\n",
        "    if dist[u] == Inf:\n",
        "      break\n",
        "\n",
        "      vstd[u]  = True\n",
        "      for v,d in graph[u]:\n",
        "        if dist[u]+d < dist[v]:\n",
        "          dist[v] = dist[u]+d\n",
        "\n",
        "    return dist\n",
        "\n",
        "\n",
        "graph = {\n",
        "    0: [(1, 1)],\n",
        "    1: [(0, 1), (2, 2), (3, 3)],\n",
        "    2: [(1, 2), (3, 1), (4, 5)],\n",
        "    3: [(1, 3), (2, 1), (4, 1)],\n",
        "    4: [(2, 5), (3, 1)]\n",
        "}\n",
        "\n",
        "print(dijkstra(graph,0))"
      ]
    },
    {
      "cell_type": "code",
      "source": [
        "# Topological sort (SSSP DAG)\n",
        "\n",
        "from collections import defaultdict\n",
        "\n",
        "class graph:\n",
        "  def __init__(self, vrts): # vrts >> vertices\n",
        "    self.V = vrts\n",
        "    self.graph = defaultdict(list)\n",
        "\n",
        "  def addEdge(self,u,v,w):\n",
        "    self.graph[u].append((v,w))\n",
        "\n",
        "  def topoSort(self, v, vstd, stack): # vstd >> visited\n",
        "    vstd[v] = True\n",
        "    if v in self.graph.keys():\n",
        "      for node, wght in self.graph[v]:  # wght >> weight\n",
        "        if vstd[node] == False:\n",
        "          self.topoSort(node, vstd, stack)\n",
        "\n",
        "    stack.append(v)\n",
        "\n",
        "  def shrtPath(self, s):\n",
        "    vstd = [False]*self.V\n",
        "    stack = []\n",
        "\n",
        "    for i in range(self.V):\n",
        "      if vstd[i] == False:\n",
        "        self.topoSort(s, vstd, stack)\n",
        "\n",
        "    dist = [float(\"Inf\")]*(self.V)\n",
        "    dist[s] = 0\n",
        "\n",
        "    while stack:\n",
        "      i = stack.pop()\n",
        "      for node, wght in self.graph[i]:\n",
        "        if dist[node] > dist[i] + wght:\n",
        "          dist[node] = dist[i] + wght\n",
        "\n",
        "    for i in range(self.V):\n",
        "      print((\"%d\" %dist[i]) if dist[i] != float(\"Inf\") else \"Inf\", end = \" \")\n",
        "\n",
        "g = graph(6)\n",
        "g.addEdge(0, 1, 5)\n",
        "g.addEdge(0, 2, 3)\n",
        "g.addEdge(1, 3, 6)\n",
        "g.addEdge(1, 2, 2)\n",
        "g.addEdge(2, 4, 4)\n",
        "g.addEdge(2, 5, 2)\n",
        "g.addEdge(2, 3, 7)\n",
        "g.addEdge(3, 4, -1)\n",
        "g.addEdge(4, 5, -2)\n",
        "\n",
        "s = 1\n",
        "\n",
        "print (s)\n",
        "g.shrtPath(s)"
      ],
      "metadata": {
        "colab": {
          "base_uri": "https://localhost:8080/"
        },
        "id": "0xNeHpbKKtjp",
        "outputId": "811c212b-ddfb-4c6f-e4d8-629e9c59ad62"
      },
      "execution_count": null,
      "outputs": [
        {
          "output_type": "stream",
          "name": "stdout",
          "text": [
            "1\n",
            "Inf 0 2 6 5 3 "
          ]
        }
      ]
    },
    {
      "cell_type": "code",
      "source": [],
      "metadata": {
        "id": "wF4IlBtaKtgS"
      },
      "execution_count": null,
      "outputs": []
    },
    {
      "cell_type": "code",
      "source": [],
      "metadata": {
        "id": "kpEz7PEkKteV"
      },
      "execution_count": null,
      "outputs": []
    },
    {
      "cell_type": "code",
      "source": [],
      "metadata": {
        "id": "d61Ugq6XKtcR"
      },
      "execution_count": null,
      "outputs": []
    }
  ]
}