{
  "nbformat": 4,
  "nbformat_minor": 0,
  "metadata": {
    "colab": {
      "provenance": [],
      "authorship_tag": "ABX9TyONdneX1BwSHu5IpAnMY+hh",
      "include_colab_link": true
    },
    "kernelspec": {
      "name": "python3",
      "display_name": "Python 3"
    },
    "language_info": {
      "name": "python"
    }
  },
  "cells": [
    {
      "cell_type": "markdown",
      "metadata": {
        "id": "view-in-github",
        "colab_type": "text"
      },
      "source": [
        "<a href=\"https://colab.research.google.com/github/Tejas132005/Algorithm-Check/blob/main/Dijkstra_Algo.ipynb\" target=\"_parent\"><img src=\"https://colab.research.google.com/assets/colab-badge.svg\" alt=\"Open In Colab\"/></a>"
      ]
    },
    {
      "cell_type": "code",
      "execution_count": 1,
      "metadata": {
        "colab": {
          "base_uri": "https://localhost:8080/"
        },
        "id": "Msw0OU50RdQh",
        "outputId": "7c9c72cd-940e-41cb-c5dc-4577993934cb"
      },
      "outputs": [
        {
          "output_type": "stream",
          "name": "stdout",
          "text": [
            "[0, inf, inf, inf, inf]\n"
          ]
        }
      ],
      "source": [
        "# Dijkstra Algorithm Python\n",
        "\n",
        "from numpy import Inf\n",
        "\n",
        "def dijkstra(graph, start):\n",
        "  l = len(graph)\n",
        "  dist = [Inf for _ in range(l)]\n",
        "\n",
        "  dist[start] = 0\n",
        "  vstd = [False for _ in range(l)]\n",
        "\n",
        "  for _ in range(l):\n",
        "    u = -1\n",
        "    for x in range(l):\n",
        "      if not vstd[x] and (u==-1 or dist[x]<dist[u]):\n",
        "        u= x\n",
        "\n",
        "    if dist[u] == Inf:\n",
        "      break\n",
        "\n",
        "      vstd[u]  = True\n",
        "      for v,d in graph[u]:\n",
        "        if dist[u]+d < dist[v]:\n",
        "          dist[v] = dist[u]+d\n",
        "\n",
        "    return dist\n",
        "\n",
        "\n",
        "graph = {\n",
        "    0: [(1, 1)],\n",
        "    1: [(0, 1), (2, 2), (3, 3)],\n",
        "    2: [(1, 2), (3, 1), (4, 5)],\n",
        "    3: [(1, 3), (2, 1), (4, 1)],\n",
        "    4: [(2, 5), (3, 1)]\n",
        "}\n",
        "\n",
        "print(dijkstra(graph,0))"
      ]
    },
    {
      "cell_type": "code",
      "source": [],
      "metadata": {
        "id": "mB-qwmGfRhst"
      },
      "execution_count": null,
      "outputs": []
    }
  ]
}